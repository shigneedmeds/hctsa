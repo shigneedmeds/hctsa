{
 "cells": [
  {
   "cell_type": "code",
   "execution_count": 2,
   "metadata": {},
   "outputs": [],
   "source": [
    "from sktime.classification.distance_based import KNeighborsTimeSeriesClassifier, ShapeDTW #Shapetest\n",
    "#from sktime.datasets import load_arrow_head\n",
    "from sklearn.model_selection import train_test_split\n",
    "from sklearn.metrics import accuracy_score\n",
    "import numpy as np\n",
    "import matplotlib.pyplot as plt\n"
   ]
  },
  {
   "cell_type": "code",
   "execution_count": 3,
   "metadata": {},
   "outputs": [],
   "source": [
    "dataset = \"ChlorineConcentration\"\n",
    "f = np.loadtxt(f\"Smoothed/{dataset}_smoothed.csv\", delimiter=\",\")\n",
    "np.random.seed(0)\n",
    "np.random.shuffle(f)\n",
    "ts = f[:, 1:]\n",
    "labels = f[:, 0].astype(int)"
   ]
  },
  {
   "cell_type": "code",
   "execution_count": 3,
   "metadata": {},
   "outputs": [
    {
     "data": {
      "text/plain": [
       "array([[ 1.1674 ,  3.6845 ,  3.3017 , ..., -1.1323 , -0.9668 , -1.0102 ],\n",
       "       [ 1.2788 ,  3.7004 ,  3.2792 , ..., -0.85309, -0.578  , -0.66962],\n",
       "       [ 3.4515 ,  3.4499 ,  3.0707 , ..., -0.86413, -0.53551, -0.60996],\n",
       "       ...,\n",
       "       [ 4.1401 ,  3.9774 ,  3.5973 , ..., -0.73409, -0.39931, -0.5093 ],\n",
       "       [ 3.2737 ,  3.2689 ,  2.905  , ..., -0.90609, -0.62881, -0.68447],\n",
       "       [ 3.8254 ,  3.6989 ,  3.3276 , ..., -0.7994 , -0.45745, -0.52985]],\n",
       "      shape=(999, 166))"
      ]
     },
     "execution_count": 3,
     "metadata": {},
     "output_type": "execute_result"
    }
   ],
   "source": [
    "ts = np.zeros((999, f.shape[1] - 1))\n",
    "ts[0:333] = f[f[:, 0] == 1][0:333, 1:]\n",
    "ts[333:666] = f[f[:, 0] == 2][0:333, 1:]\n",
    "ts[666:999] = f[f[:, 0] == 3][0:333, 1:]\n",
    "ts"
   ]
  },
  {
   "cell_type": "code",
   "execution_count": 4,
   "metadata": {},
   "outputs": [],
   "source": [
    "def walker(ts, m):\n",
    "    X = np.zeros_like(ts)\n",
    "    col = ts.shape[0]\n",
    "    N = ts.shape[1]\n",
    "    \n",
    "    for i in range(0,col):\n",
    "        w = X[i, :]\n",
    "        y = ts[i, :]\n",
    "        \n",
    "        w[0] = y[0]\n",
    "        w[1] = y[1]\n",
    "        for k in range(2, N):\n",
    "            w_inert = w[k-1] * 2 - w[k-2]\n",
    "            w[k] = w_inert + (y[k] - w_inert)/m\n",
    "        \n",
    "        X[i, :] = w\n",
    "    \n",
    "    return X"
   ]
  },
  {
   "cell_type": "code",
   "execution_count": 5,
   "metadata": {},
   "outputs": [],
   "source": [
    "def testaccuracy(m):\n",
    "    X = walker(ts, m)\n",
    "        \n",
    "    #np.random.seed(0)\n",
    "    \n",
    "    X_train, X_test, y_train, y_test = train_test_split(X, labels)\n",
    "    classifier = KNeighborsTimeSeriesClassifier(distance=\"euclidean\")\n",
    "    classifier.fit(X_train, y_train)\n",
    "    y_pred = classifier.predict(X_test)\n",
    "    \n",
    "    correct = 0\n",
    "    total = X_train.shape[0]\n",
    "    i = 0\n",
    "    while i < len(X_train):\n",
    "        classifier = KNeighborsTimeSeriesClassifier(distance=\"euclidean\")\n",
    "        ind = np.ones(X_train.shape[0], int)\n",
    "        ind[i] = 0\n",
    "        test = X_train[i]\n",
    "        \n",
    "        ind = ind.astype(np.bool)\n",
    "        \n",
    "        classifier.fit(X_train[ind], y_train[ind])\n",
    "        \n",
    "        pred = classifier.predict(np.array([test]))\n",
    "        \n",
    "        if pred[0] == y_train[i]:\n",
    "            correct += 1\n",
    "        \n",
    "        i += 1\n",
    "    \n",
    "    return accuracy_score(y_test, y_pred), correct/total"
   ]
  },
  {
   "cell_type": "code",
   "execution_count": 15,
   "metadata": {},
   "outputs": [],
   "source": [
    "def trainaccuracy(m):\n",
    "    X = walker(ts, m)\n",
    "    \n",
    "    np.random.seed(0)\n",
    "    \n",
    "    X_train, X_test, y_train, y_test = train_test_split(X, labels)\n",
    "    \n",
    "    correct = 0\n",
    "    total = X_train.shape[0]\n",
    "    i = 0\n",
    "    while i < len(X_train):\n",
    "        classifier = KNeighborsTimeSeriesClassifier(distance=\"euclidean\")\n",
    "        ind = np.ones(X_train.shape[0], int)\n",
    "        ind[i] = 0\n",
    "        test = X_train[i]\n",
    "        \n",
    "        ind = ind.astype(np.bool)\n",
    "        \n",
    "        classifier.fit(X_train[ind], y_train[ind])\n",
    "        \n",
    "        pred = classifier.predict(np.array([test]))\n",
    "        \n",
    "        if pred[0] == y_train[i]:\n",
    "            correct += 1\n",
    "        \n",
    "        i += 1\n",
    "    \n",
    "    return correct/total"
   ]
  },
  {
   "cell_type": "code",
   "execution_count": 6,
   "metadata": {},
   "outputs": [],
   "source": [
    "masses = np.arange(5, 101, 5)\n",
    "accuracy = np.zeros((20, 2))"
   ]
  },
  {
   "cell_type": "code",
   "execution_count": 8,
   "metadata": {},
   "outputs": [],
   "source": [
    "\n",
    "i = 0\n",
    "for m in masses:\n",
    "    if m > 25:\n",
    "        break\n",
    "    \n",
    "    result = []\n",
    "    for _ in range(0, 1):\n",
    "        result.append(testaccuracy(m))\n",
    "    \n",
    "    result = np.array(result)\n",
    "    result = np.mean(result, axis = 0)\n",
    "    accuracy[i, 0] = result[0]\n",
    "    accuracy[i, 1] = result[1]\n",
    "    i += 1\n",
    "    "
   ]
  },
  {
   "cell_type": "code",
   "execution_count": 13,
   "metadata": {},
   "outputs": [
    {
     "data": {
      "text/plain": [
       "(0.9238625812441968, 0.9139318885448916)"
      ]
     },
     "execution_count": 13,
     "metadata": {},
     "output_type": "execute_result"
    }
   ],
   "source": [
    "testaccuracy(5)"
   ]
  },
  {
   "cell_type": "code",
   "execution_count": 9,
   "metadata": {},
   "outputs": [
    {
     "data": {
      "text/plain": [
       "Text(0.5, 1.0, 'ChlorineConcentration')"
      ]
     },
     "execution_count": 9,
     "metadata": {},
     "output_type": "execute_result"
    },
    {
     "data": {
      "image/png": "[encoded data removed]",
      "text/plain": [
       "<Figure size 640x480 with 1 Axes>"
      ]
     },
     "metadata": {},
     "output_type": "display_data"
    }
   ],
   "source": [
    "dash = [0.651958333] * 20\n",
    "dash = np.array(dash)\n",
    "\n",
    "plt.clf()\n",
    "plt.plot(masses, accuracy[:, 0], \".-\", label=\"testing\")\n",
    "plt.plot(masses, accuracy[:, 1], \".-\", label=\"training\")\n",
    "plt.plot(masses, dash, \"--\", label=\"Original\" )\n",
    "plt.xlabel(\"mass\")\n",
    "plt.ylabel(\"accuracy\")\n",
    "plt.legend()\n",
    "plt.title(dataset)"
   ]
  },
  {
   "cell_type": "code",
   "execution_count": null,
   "metadata": {},
   "outputs": [],
   "source": [
    "np.mean(accuracy)"
   ]
  },
  {
   "cell_type": "code",
   "execution_count": 12,
   "metadata": {},
   "outputs": [
    {
     "data": {
      "text/plain": [
       "0.7040816326530612"
      ]
     },
     "execution_count": 12,
     "metadata": {},
     "output_type": "execute_result"
    }
   ],
   "source": [
    "testaccuracy(5)"
   ]
  },
  {
   "cell_type": "code",
   "execution_count": null,
   "metadata": {},
   "outputs": [],
   "source": []
  }
 ],
 "metadata": {
  "kernelspec": {
   "display_name": ".venv",
   "language": "python",
   "name": "python3"
  },
  "language_info": {
   "codemirror_mode": {
    "name": "ipython",
    "version": 3
   },
   "file_extension": ".py",
   "mimetype": "text/x-python",
   "name": "python",
   "nbconvert_exporter": "python",
   "pygments_lexer": "ipython3",
   "version": "3.11.1"
  }
 },
 "nbformat": 4,
 "nbformat_minor": 2
}
