{
 "cells": [
  {
   "cell_type": "code",
   "execution_count": null,
   "metadata": {},
   "outputs": [],
   "source": [
    "from sktime.classification.distance_based import KNeighborsTimeSeriesClassifier, ShapeDTW #Shapetest\n",
    "#from sktime.datasets import load_arrow_head\n",
    "from sklearn.model_selection import train_test_split\n",
    "from sklearn.metrics import accuracy_score\n",
    "import numpy as np\n",
    "import matplotlib.pyplot as plt\n"
   ]
  },
  {
   "cell_type": "code",
   "execution_count": null,
   "metadata": {},
   "outputs": [],
   "source": [
    "dataset = \"Adiac\"\n",
    "f = np.loadtxt(f\"Smoothed/{dataset}_smoothed.csv\", delimiter=\",\")\n",
    "np.random.seed(0)\n",
    "#np.random.shuffle(f)\n",
    "ts = f[:, 2:]\n",
    "labels = f[:, 0].astype(int)\n",
    "train = f[:, 1].astype(bool)"
   ]
  },
  {
   "cell_type": "code",
   "execution_count": null,
   "metadata": {},
   "outputs": [],
   "source": [
    "ts = np.zeros((999, f.shape[1] - 1))\n",
    "ts[0:333] = f[f[:, 0] == 1][0:333, 1:]\n",
    "ts[333:666] = f[f[:, 0] == 2][0:333, 1:]\n",
    "ts[666:999] = f[f[:, 0] == 3][0:333, 1:]\n",
    "ts"
   ]
  },
  {
   "cell_type": "code",
   "execution_count": null,
   "metadata": {},
   "outputs": [],
   "source": [
    "def walker(ts, m):\n",
    "    X = np.zeros_like(ts)\n",
    "    col = ts.shape[0]\n",
    "    N = ts.shape[1]\n",
    "    \n",
    "    for i in range(0,col):\n",
    "        w = X[i, :]\n",
    "        y = ts[i, :]\n",
    "        \n",
    "        w[0] = y[0]\n",
    "        w[1] = y[1]\n",
    "        for k in range(2, N):\n",
    "            w_inert = w[k-1] * 2 - w[k-2]\n",
    "            w[k] = w_inert + (y[k] - w_inert)/m\n",
    "        \n",
    "        X[i, :] = w\n",
    "    \n",
    "    return X"
   ]
  },
  {
   "cell_type": "code",
   "execution_count": null,
   "metadata": {},
   "outputs": [],
   "source": [
    "def testaccuracy(m, train_acc = False):\n",
    "    X = walker(ts, m)\n",
    "        \n",
    "    #np.random.seed(0)\n",
    "    \n",
    "    X_train, X_test = X[train], X[~train]\n",
    "    y_train, y_test = labels[train], labels[~train] #train_test_split(X, labels)\n",
    "    classifier = KNeighborsTimeSeriesClassifier(distance=\"euclidean\")\n",
    "    classifier.fit(X_train, y_train)\n",
    "    y_pred = classifier.predict(X_test)\n",
    "\n",
    "    correct = 0\n",
    "    total = X_train.shape[0]\n",
    "    if train_acc:\n",
    "        \n",
    "        \n",
    "        i = 0\n",
    "        while i < len(X_train):\n",
    "            classifier = KNeighborsTimeSeriesClassifier(distance=\"euclidean\")\n",
    "            ind = np.ones(X_train.shape[0], int)\n",
    "            ind[i] = 0\n",
    "            test = X_train[i]\n",
    "            \n",
    "            ind = ind.astype(bool)\n",
    "            \n",
    "            classifier.fit(X_train[ind], y_train[ind])\n",
    "            \n",
    "            pred = classifier.predict(np.array([test]))\n",
    "            \n",
    "            if pred[0] == y_train[i]:\n",
    "                correct += 1\n",
    "            \n",
    "            i += 1\n",
    "    \n",
    "    return accuracy_score(y_test, y_pred), correct/total"
   ]
  },
  {
   "cell_type": "code",
   "execution_count": null,
   "metadata": {},
   "outputs": [],
   "source": [
    "def trainaccuracy(m):\n",
    "    X = walker(ts, m)\n",
    "    \n",
    "    np.random.seed(0)\n",
    "    \n",
    "    X_train, X_test, y_train, y_test = train_test_split(X, labels)\n",
    "    \n",
    "    correct = 0\n",
    "    total = X_train.shape[0]\n",
    "    i = 0\n",
    "    while i < len(X_train):\n",
    "        classifier = KNeighborsTimeSeriesClassifier(distance=\"euclidean\")\n",
    "        ind = np.ones(X_train.shape[0], int)\n",
    "        ind[i] = 0\n",
    "        test = X_train[i]\n",
    "        \n",
    "        ind = ind.astype(bool)\n",
    "        \n",
    "        classifier.fit(X_train[ind], y_train[ind])\n",
    "        \n",
    "        pred = classifier.predict(np.array([test]))\n",
    "        \n",
    "        if pred[0] == y_train[i]:\n",
    "            correct += 1\n",
    "        \n",
    "        i += 1\n",
    "    \n",
    "    return correct/total"
   ]
  },
  {
   "cell_type": "code",
   "execution_count": null,
   "metadata": {},
   "outputs": [],
   "source": [
    "testaccuracy(1)"
   ]
  },
  {
   "cell_type": "code",
   "execution_count": null,
   "metadata": {},
   "outputs": [],
   "source": [
    "masses = np.arange(1, 20.1, 0.1)\n",
    "accuracy = np.zeros((masses.shape[0], 2))"
   ]
  },
  {
   "cell_type": "code",
   "execution_count": null,
   "metadata": {},
   "outputs": [],
   "source": [
    "\n",
    "i = 0\n",
    "for m in masses:\n",
    "    result = []\n",
    "    for _ in range(0, 5):\n",
    "        result.append(testaccuracy(m))\n",
    "    \n",
    "    result = np.array(result)\n",
    "    result = np.mean(result, axis = 0)\n",
    "    accuracy[i, 0] = result[0]\n",
    "    accuracy[i, 1] = result[1]\n",
    "    i += 1\n",
    "    "
   ]
  },
  {
   "cell_type": "code",
   "execution_count": null,
   "metadata": {},
   "outputs": [],
   "source": [
    "dash = [0.61125319] * masses.shape[0]\n",
    "dash = np.array(dash)\n",
    "\n",
    "plt.clf()\n",
    "plt.plot(masses, accuracy[:, 0], \"-\", label=\"testing\")\n",
    "#plt.plot(masses, accuracy[:, 1], \".-\", label=\"training\")\n",
    "plt.plot(masses, dash, \"--\", label=\"Original\" )\n",
    "plt.xlabel(\"mass\")\n",
    "plt.ylabel(\"accuracy\")\n",
    "plt.legend()\n",
    "plt.title(dataset)"
   ]
  },
  {
   "cell_type": "code",
   "execution_count": null,
   "metadata": {},
   "outputs": [],
   "source": [
    "accuracy"
   ]
  },
  {
   "cell_type": "code",
   "execution_count": null,
   "metadata": {},
   "outputs": [],
   "source": [
    "testaccuracy(1)"
   ]
  },
  {
   "cell_type": "code",
   "execution_count": null,
   "metadata": {},
   "outputs": [],
   "source": []
  }
 ],
 "metadata": {
  "kernelspec": {
   "display_name": ".venv",
   "language": "python",
   "name": "python3"
  },
  "language_info": {
   "codemirror_mode": {
    "name": "ipython",
    "version": 3
   },
   "file_extension": ".py",
   "mimetype": "text/x-python",
   "name": "python",
   "nbconvert_exporter": "python",
   "pygments_lexer": "ipython3",
   "version": "3.11.1"
  }
 },
 "nbformat": 4,
 "nbformat_minor": 2
}
