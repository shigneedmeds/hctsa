{
 "cells": [
  {
   "cell_type": "code",
   "execution_count": 20,
   "metadata": {},
   "outputs": [],
   "source": [
    "from sktime.classification.distance_based import KNeighborsTimeSeriesClassifier, ShapeDTW #Shapetest\n",
    "#from sktime.datasets import load_arrow_head\n",
    "from sklearn.model_selection import train_test_split\n",
    "from sklearn.metrics import accuracy_score\n",
    "import numpy as np\n",
    "import matplotlib.pyplot as plt\n"
   ]
  },
  {
   "cell_type": "code",
   "execution_count": 21,
   "metadata": {},
   "outputs": [],
   "source": [
    "dataset = \"Phoneme\"\n",
    "f = np.loadtxt(f\"Smoothed/{dataset}_smoothed.csv\", delimiter=\",\")\n",
    "np.random.seed(0)\n",
    "#np.random.shuffle(f)\n",
    "ts = f[:, 2:]\n",
    "labels = f[:, 0].astype(int)\n",
    "train = f[:, 1].astype(bool)"
   ]
  },
  {
   "cell_type": "code",
   "execution_count": 33,
   "metadata": {},
   "outputs": [],
   "source": [
    "def walker(ts, m, u= 0.1, g = 1): #only kinetic friction\n",
    "    X = np.zeros_like(ts)\n",
    "    col = ts.shape[0]\n",
    "    N = ts.shape[1]\n",
    "        \n",
    "    for i in range(0,col):\n",
    "        w = X[i, :]\n",
    "        y = ts[i, :]\n",
    "        \n",
    "        w[0] = y[0]\n",
    "        w[1] = y[1]\n",
    "        #w[1] = w[0] + (y[1] - u_static * m * g) / m\n",
    "        for k in range(2, N):\n",
    "            #if w[k] - w[k-1] == 0:\n",
    "                #if y[k] <= u_static * m * g:\n",
    "                    #w[k] = w[k-1]\n",
    "                    \n",
    "            #w_inert = w[k-1] * 2 - w[k-2]\n",
    "            w[k] = w[k-1] + (y[k] - u * m * g)/m\n",
    "        \n",
    "        X[i, :] = w\n",
    "    \n",
    "    return X"
   ]
  },
  {
   "cell_type": "code",
   "execution_count": 22,
   "metadata": {},
   "outputs": [],
   "source": [
    "def walker(ts, m):\n",
    "    X = np.zeros_like(ts)\n",
    "    col = ts.shape[0]\n",
    "    N = ts.shape[1]\n",
    "    \n",
    "    for i in range(0,col):\n",
    "        w = X[i, :]\n",
    "        y = ts[i, :]\n",
    "        \n",
    "        w[0] = y[0]\n",
    "        w[1] = y[1]\n",
    "        for k in range(2, N):\n",
    "            w_inert = w[k-1] * 2 - w[k-2]\n",
    "            w[k] = w_inert + (y[k] - w_inert)/m\n",
    "        \n",
    "        X[i, :] = w\n",
    "    \n",
    "    return X"
   ]
  },
  {
   "cell_type": "code",
   "execution_count": 23,
   "metadata": {},
   "outputs": [],
   "source": [
    "def testaccuracy(m, train_acc = False):\n",
    "    X = walker(ts, m)\n",
    "        \n",
    "    #np.random.seed(0)\n",
    "    \n",
    "    X_train, X_test = X[train], X[~train]\n",
    "    y_train, y_test = labels[train], labels[~train] #train_test_split(X, labels)\n",
    "    classifier = KNeighborsTimeSeriesClassifier(distance=\"euclidean\")\n",
    "    classifier.fit(X_train, y_train)\n",
    "    y_pred = classifier.predict(X_test)\n",
    "\n",
    "    correct = 0\n",
    "    total = X_train.shape[0]\n",
    "    if train_acc:\n",
    "        \n",
    "        \n",
    "        i = 0\n",
    "        while i < len(X_train):\n",
    "            classifier = KNeighborsTimeSeriesClassifier(distance=\"euclidean\")\n",
    "            ind = np.ones(X_train.shape[0], int)\n",
    "            ind[i] = 0\n",
    "            test = X_train[i]\n",
    "            \n",
    "            ind = ind.astype(bool)\n",
    "            \n",
    "            classifier.fit(X_train[ind], y_train[ind])\n",
    "            \n",
    "            pred = classifier.predict(np.array([test]))\n",
    "            \n",
    "            if pred[0] == y_train[i]:\n",
    "                correct += 1\n",
    "            \n",
    "            i += 1\n",
    "    \n",
    "    return accuracy_score(y_test, y_pred), correct/total"
   ]
  },
  {
   "cell_type": "code",
   "execution_count": 24,
   "metadata": {},
   "outputs": [],
   "source": [
    "def trainaccuracy(m):\n",
    "    X = walker(ts, m)\n",
    "    \n",
    "    np.random.seed(0)\n",
    "    \n",
    "    X_train, X_test, y_train, y_test = train_test_split(X, labels)\n",
    "    \n",
    "    correct = 0\n",
    "    total = X_train.shape[0]\n",
    "    i = 0\n",
    "    while i < len(X_train):\n",
    "        classifier = KNeighborsTimeSeriesClassifier(distance=\"euclidean\")\n",
    "        ind = np.ones(X_train.shape[0], int)\n",
    "        ind[i] = 0\n",
    "        test = X_train[i]\n",
    "        \n",
    "        ind = ind.astype(bool)\n",
    "        \n",
    "        classifier.fit(X_train[ind], y_train[ind])\n",
    "        \n",
    "        pred = classifier.predict(np.array([test]))\n",
    "        \n",
    "        if pred[0] == y_train[i]:\n",
    "            correct += 1\n",
    "        \n",
    "        i += 1\n",
    "    \n",
    "    return correct/total"
   ]
  },
  {
   "cell_type": "code",
   "execution_count": 25,
   "metadata": {},
   "outputs": [],
   "source": [
    "masses = np.arange(0, 200, 10)\n",
    "masses[0] = 1\n",
    "accuracy = np.zeros((masses.shape[0], 2))"
   ]
  },
  {
   "cell_type": "code",
   "execution_count": 26,
   "metadata": {},
   "outputs": [
    {
     "name": "stdout",
     "output_type": "stream",
     "text": [
      "(0.10917721518987342, 0.09813084112149532)\n",
      "(0.07647679324894514, 0.06542056074766354)\n",
      "(0.08069620253164557, 0.06074766355140187)\n",
      "(0.07172995780590717, 0.06542056074766354)\n",
      "(0.0680379746835443, 0.06542056074766354)\n",
      "(0.06434599156118144, 0.0794392523364486)\n",
      "(0.07014767932489452, 0.07476635514018691)\n",
      "(0.0669831223628692, 0.0514018691588785)\n",
      "(0.07225738396624473, 0.07009345794392523)\n",
      "(0.0770042194092827, 0.056074766355140186)\n",
      "(0.07067510548523206, 0.0514018691588785)\n",
      "(0.0669831223628692, 0.037383177570093455)\n",
      "(0.06645569620253164, 0.04672897196261682)\n",
      "(0.0669831223628692, 0.0514018691588785)\n",
      "(0.06487341772151899, 0.056074766355140186)\n",
      "(0.06434599156118144, 0.056074766355140186)\n",
      "(0.06434599156118144, 0.056074766355140186)\n",
      "(0.06909282700421941, 0.0514018691588785)\n",
      "(0.06540084388185655, 0.028037383177570093)\n",
      "(0.06592827004219409, 0.04205607476635514)\n"
     ]
    }
   ],
   "source": [
    "#check higher masses\n",
    "\n",
    "\n",
    "i = 0\n",
    "for m in masses:\n",
    "    #result = []\n",
    "    #for _ in range(0, 1):\n",
    "        #result.append(testaccuracy(m, train_acc = True))\n",
    "    \n",
    "    #result = np.array(result)\n",
    "    #result = np.mean(result, axis = 0)\n",
    "\n",
    "    result = testaccuracy(m, True)\n",
    "    print(result)\n",
    "\n",
    "    accuracy[i, 0] = result[0]\n",
    "    accuracy[i, 1] = result[1]\n",
    "    i += 1\n",
    "    "
   ]
  },
  {
   "cell_type": "code",
   "execution_count": 27,
   "metadata": {},
   "outputs": [
    {
     "data": {
      "text/plain": [
       "Text(0.5, 1.0, 'Phoneme')"
      ]
     },
     "execution_count": 27,
     "metadata": {},
     "output_type": "execute_result"
    },
    {
     "data": {
      "image/png": "[encoded data removed]",
      "text/plain": [
       "<Figure size 640x480 with 1 Axes>"
      ]
     },
     "metadata": {},
     "output_type": "display_data"
    }
   ],
   "source": [
    "dash = [0.85] * masses.shape[0]\n",
    "dash = np.array(dash)\n",
    "\n",
    "plt.clf()\n",
    "plt.plot(masses, accuracy[:, 0], \"-\", label=\"testing\")\n",
    "\n",
    "plt.plot(masses, accuracy[:, 1], \"-\", label=\"training\")\n",
    "plt.plot(masses, dash, \"--\", label=\"Original\" )\n",
    "plt.xlabel(\"mass\")\n",
    "plt.ylabel(\"accuracy\")\n",
    "plt.legend()\n",
    "plt.title(dataset)"
   ]
  },
  {
   "cell_type": "code",
   "execution_count": 69,
   "metadata": {},
   "outputs": [
    {
     "name": "stdout",
     "output_type": "stream",
     "text": [
      "(0.8862311801845556, 0.0)\n",
      "(0.8881738708110734, 0.0)\n",
      "(0.8830743079164644, 0.0)\n",
      "(0.8829528897523069, 0.0)\n",
      "(0.8813744536182613, 0.0)\n",
      "(0.8804031083050025, 0.0)\n",
      "(0.8824672170956775, 0.0)\n",
      "(0.8827100534239922, 0.0)\n",
      "(0.8834385624089364, 0.0)\n",
      "(0.8848955803788247, 0.0)\n",
      "(0.8867168528411851, 0.0)\n",
      "(0.8873239436619719, 0.0)\n",
      "(0.888052452646916, 0.0)\n",
      "(0.8918164157357941, 0.0)\n",
      "(0.8899951432734337, 0.0)\n"
     ]
    }
   ],
   "source": [
    "masses2 = np.arange(310, 451, 10)\n",
    "accuracy2 = np.zeros((masses2.shape[0], 2))\n",
    "\n",
    "i = 0\n",
    "for m in masses2:\n",
    "    #result = []\n",
    "    #for _ in range(0, 1):\n",
    "        #result.append(testaccuracy(m, train_acc = True))\n",
    "    \n",
    "    #result = np.array(result)\n",
    "    #result = np.mean(result, axis = 0)\n",
    "\n",
    "    result = testaccuracy(m, False)\n",
    "    print(result)\n",
    "\n",
    "    accuracy2[i, 0] = result[0]\n",
    "    accuracy2[i, 1] = result[1]\n",
    "    i += 1"
   ]
  },
  {
   "cell_type": "code",
   "execution_count": 70,
   "metadata": {},
   "outputs": [],
   "source": [
    "accuracy = np.append(accuracy, accuracy2, axis = 0)\n",
    "masses = np.append(masses, masses2)"
   ]
  },
  {
   "cell_type": "code",
   "execution_count": 71,
   "metadata": {},
   "outputs": [
    {
     "data": {
      "text/plain": [
       "Text(0.5, 1.0, 'StarLightCurves')"
      ]
     },
     "execution_count": 71,
     "metadata": {},
     "output_type": "execute_result"
    },
    {
     "data": {
      "image/png": "[encoded data removed]",
      "text/plain": [
       "<Figure size 640x480 with 1 Axes>"
      ]
     },
     "metadata": {},
     "output_type": "display_data"
    }
   ],
   "source": [
    "dash = [0.85] * masses.shape[0]\n",
    "dash = np.array(dash)\n",
    "\n",
    "plt.clf()\n",
    "plt.plot(masses, accuracy[:, 0], \"-\", label=\"testing\")\n",
    "\n",
    "#plt.plot(masses2, accuracy2[:, 1], \"-\", label=\"training\")\n",
    "plt.plot(masses, dash, \"--\", label=\"Original\" )\n",
    "plt.xlabel(\"mass\")\n",
    "plt.ylabel(\"accuracy\")\n",
    "plt.legend()\n",
    "plt.title(dataset)"
   ]
  },
  {
   "cell_type": "code",
   "execution_count": 79,
   "metadata": {},
   "outputs": [],
   "source": [
    "data = np.zeros((masses.shape[0], 3))\n",
    "data[:, 0] = masses\n",
    "data[:, 1:] = accuracy\n",
    "\n",
    "np.savetxt('Starlight_Accuracy.txt',data, delimiter=',', header=\"mass,test,train\")"
   ]
  },
  {
   "cell_type": "code",
   "execution_count": null,
   "metadata": {},
   "outputs": [],
   "source": []
  }
 ],
 "metadata": {
  "kernelspec": {
   "display_name": "Python 3",
   "language": "python",
   "name": "python3"
  },
  "language_info": {
   "codemirror_mode": {
    "name": "ipython",
    "version": 3
   },
   "file_extension": ".py",
   "mimetype": "text/x-python",
   "name": "python",
   "nbconvert_exporter": "python",
   "pygments_lexer": "ipython3",
   "version": "3.10.11"
  }
 },
 "nbformat": 4,
 "nbformat_minor": 2
}
