{
 "cells": [
  {
   "cell_type": "code",
   "execution_count": 1,
   "metadata": {},
   "outputs": [],
   "source": [
    "import numpy as np\n",
    "import matplotlib.pyplot as plt\n"
   ]
  },
  {
   "cell_type": "code",
   "execution_count": 2,
   "metadata": {},
   "outputs": [],
   "source": [
    "def sin(x):\n",
    "    return np.sin(x)\n",
    "\n",
    "def cos(x):\n",
    "    return np.cos(x)\n",
    "\n",
    "def exp(x):\n",
    "    return np.exp(x)\n",
    "\n",
    "def noise(x):\n",
    "    gaussian_noise = np.random.normal(np.mean(x), np.std(x), x.shape[0])\n",
    "    return x + gaussian_noise\n",
    "\n",
    "def z_score(x):\n",
    "    return (x - np.mean(x)) / np.std(x)\n",
    "\n",
    "def log(x):\n",
    "    return np.log(x)\n"
   ]
  },
  {
   "cell_type": "code",
   "execution_count": 3,
   "metadata": {},
   "outputs": [],
   "source": [
    "tpf = np.load(\"variablestar_tpf.npy\")\n",
    "tpf_re = tpf.reshape((tpf.shape[0], 50*50)).T\n",
    "\n",
    "for i in range(0,2500):\n",
    "    tpf_re[i] = (tpf_re[i] - np.mean(tpf_re[i])) / np.std(tpf_re[i])"
   ]
  },
  {
   "cell_type": "code",
   "execution_count": 4,
   "metadata": {},
   "outputs": [],
   "source": [
    "np.savetxt(\"normalised.txt\", tpf_re)"
   ]
  },
  {
   "cell_type": "code",
   "execution_count": 49,
   "metadata": {},
   "outputs": [
    {
     "data": {
      "text/plain": [
       "array([[0., 0., 0., ..., 0., 0., 0.],\n",
       "       [0., 0., 0., ..., 0., 0., 0.],\n",
       "       [0., 0., 0., ..., 0., 0., 0.],\n",
       "       ...,\n",
       "       [0., 0., 0., ..., 0., 0., 0.],\n",
       "       [0., 0., 0., ..., 0., 0., 0.],\n",
       "       [0., 0., 0., ..., 0., 0., 0.]], shape=(50, 50))"
      ]
     },
     "execution_count": 49,
     "metadata": {},
     "output_type": "execute_result"
    }
   ],
   "source": [
    "x = np.zeros((50, 50))\n",
    "x.reshape(50*50)[1275]\n",
    "x[25, 25] = 1\n",
    "x"
   ]
  },
  {
   "cell_type": "code",
   "execution_count": 3,
   "metadata": {},
   "outputs": [],
   "source": [
    "#lets make some sine waves that have different frequencies\n",
    "#each time-series will have length 1000, and be z-scored\n",
    "\n",
    "x = np.arange(0, 1000, 1)\n",
    "#maybe try experimenting with sampling size\n",
    "\n",
    "freqs = np.linspace(0.01, 0.15, 50)\n",
    "\n",
    "mat = np.zeros((freqs.shape[0], x.shape[0]))\n",
    "\n",
    "i = 0\n",
    "for f in freqs:\n",
    "    y = sin(f * x)\n",
    "    y = noise(y)\n",
    "    y = z_score(y)\n",
    "    mat[i, :] = y\n",
    "    i += 1\n",
    "\n",
    "np.savetxt(\"noisy_sin.csv\", mat.T, delimiter=\",\")"
   ]
  },
  {
   "cell_type": "code",
   "execution_count": 29,
   "metadata": {},
   "outputs": [
    {
     "data": {
      "text/plain": [
       "(50, 1000)"
      ]
     },
     "execution_count": 29,
     "metadata": {},
     "output_type": "execute_result"
    }
   ],
   "source": []
  },
  {
   "cell_type": "code",
   "execution_count": null,
   "metadata": {},
   "outputs": [],
   "source": []
  }
 ],
 "metadata": {
  "kernelspec": {
   "display_name": ".venv",
   "language": "python",
   "name": "python3"
  },
  "language_info": {
   "codemirror_mode": {
    "name": "ipython",
    "version": 3
   },
   "file_extension": ".py",
   "mimetype": "text/x-python",
   "name": "python",
   "nbconvert_exporter": "python",
   "pygments_lexer": "ipython3",
   "version": "3.11.1"
  }
 },
 "nbformat": 4,
 "nbformat_minor": 2
}
